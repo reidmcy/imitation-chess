{
 "cells": [
  {
   "cell_type": "code",
   "execution_count": 1,
   "metadata": {},
   "outputs": [],
   "source": [
    "import bz2\n",
    "import chess.pgn\n",
    "import imitation_chess\n",
    "\n",
    "gamesPath = '../lichess_db_standard_rated_2015-03.pgn.bz2'"
   ]
  },
  {
   "cell_type": "code",
   "execution_count": 2,
   "metadata": {},
   "outputs": [],
   "source": [
    "games = imitation_chess.GamesFile(gamesPath)"
   ]
  },
  {
   "cell_type": "code",
   "execution_count": 3,
   "metadata": {},
   "outputs": [],
   "source": [
    "g = games[0]"
   ]
  },
  {
   "cell_type": "code",
   "execution_count": 4,
   "metadata": {},
   "outputs": [],
   "source": [
    "board = g.board()\n",
    "for move in g.main_line():\n",
    "     board.push(move)"
   ]
  },
  {
   "cell_type": "code",
   "execution_count": 5,
   "metadata": {},
   "outputs": [
    {
     "data": {
      "text/plain": [
       "{'rnbqkbnr/pppppppp/8/8/8/8/PPPPPPPP/RNBQKBNR w KQkq - 0 1': 'd2d4',\n",
       " 'rnbqkbnr/pppppppp/8/8/3P4/8/PPP1PPPP/RNBQKBNR b KQkq - 0 1': 'f7f5',\n",
       " 'rnbqkbnr/ppppp1pp/8/5p2/3P4/8/PPP1PPPP/RNBQKBNR w KQkq - 0 2': 'c2c4',\n",
       " 'rnbqkbnr/ppppp1pp/8/5p2/2PP4/8/PP2PPPP/RNBQKBNR b KQkq - 0 2': 'g8f6',\n",
       " 'rnbqkb1r/ppppp1pp/5n2/5p2/2PP4/8/PP2PPPP/RNBQKBNR w KQkq - 1 3': 'b1c3',\n",
       " 'rnbqkb1r/ppppp1pp/5n2/5p2/2PP4/2N5/PP2PPPP/R1BQKBNR b KQkq - 2 3': 'g7g6',\n",
       " 'rnbqkb1r/ppppp2p/5np1/5p2/2PP4/2N5/PP2PPPP/R1BQKBNR w KQkq - 0 4': 'g2g3',\n",
       " 'rnbqkb1r/ppppp2p/5np1/5p2/2PP4/2N3P1/PP2PP1P/R1BQKBNR b KQkq - 0 4': 'f8g7',\n",
       " 'rnbqk2r/ppppp1bp/5np1/5p2/2PP4/2N3P1/PP2PP1P/R1BQKBNR w KQkq - 1 5': 'f1g2',\n",
       " 'rnbqk2r/ppppp1bp/5np1/5p2/2PP4/2N3P1/PP2PPBP/R1BQK1NR b KQkq - 2 5': 'e8g8',\n",
       " 'rnbq1rk1/ppppp1bp/5np1/5p2/2PP4/2N3P1/PP2PPBP/R1BQK1NR w KQ - 3 6': 'g1f3',\n",
       " 'rnbq1rk1/ppppp1bp/5np1/5p2/2PP4/2N2NP1/PP2PPBP/R1BQK2R b KQ - 4 6': 'd7d6',\n",
       " 'rnbq1rk1/ppp1p1bp/3p1np1/5p2/2PP4/2N2NP1/PP2PPBP/R1BQK2R w KQ - 0 7': 'e1g1',\n",
       " 'rnbq1rk1/ppp1p1bp/3p1np1/5p2/2PP4/2N2NP1/PP2PPBP/R1BQ1RK1 b - - 1 7': 'd8e8',\n",
       " 'rnb1qrk1/ppp1p1bp/3p1np1/5p2/2PP4/2N2NP1/PP2PPBP/R1BQ1RK1 w - - 2 8': 'd4d5',\n",
       " 'rnb1qrk1/ppp1p1bp/3p1np1/3P1p2/2P5/2N2NP1/PP2PPBP/R1BQ1RK1 b - - 0 8': 'a7a5',\n",
       " 'rnb1qrk1/1pp1p1bp/3p1np1/p2P1p2/2P5/2N2NP1/PP2PPBP/R1BQ1RK1 w - - 0 9': 'a2a4',\n",
       " 'rnb1qrk1/1pp1p1bp/3p1np1/p2P1p2/P1P5/2N2NP1/1P2PPBP/R1BQ1RK1 b - - 0 9': 'b8a6',\n",
       " 'r1b1qrk1/1pp1p1bp/n2p1np1/p2P1p2/P1P5/2N2NP1/1P2PPBP/R1BQ1RK1 w - - 1 10': 'f1e1',\n",
       " 'r1b1qrk1/1pp1p1bp/n2p1np1/p2P1p2/P1P5/2N2NP1/1P2PPBP/R1BQR1K1 b - - 2 10': 'a6c5',\n",
       " 'r1b1qrk1/1pp1p1bp/3p1np1/p1nP1p2/P1P5/2N2NP1/1P2PPBP/R1BQR1K1 w - - 3 11': 'f3g5',\n",
       " 'r1b1qrk1/1pp1p1bp/3p1np1/p1nP1pN1/P1P5/2N3P1/1P2PPBP/R1BQR1K1 b - - 4 11': 'h7h6',\n",
       " 'r1b1qrk1/1pp1p1b1/3p1npp/p1nP1pN1/P1P5/2N3P1/1P2PPBP/R1BQR1K1 w - - 0 12': 'g5f3',\n",
       " 'r1b1qrk1/1pp1p1b1/3p1npp/p1nP1p2/P1P5/2N2NP1/1P2PPBP/R1BQR1K1 b - - 1 12': 'e8f7',\n",
       " 'r1b2rk1/1pp1pqb1/3p1npp/p1nP1p2/P1P5/2N2NP1/1P2PPBP/R1BQR1K1 w - - 2 13': 'c3b5',\n",
       " 'r1b2rk1/1pp1pqb1/3p1npp/pNnP1p2/P1P5/5NP1/1P2PPBP/R1BQR1K1 b - - 3 13': 'e7e5',\n",
       " 'r1b2rk1/1pp2qb1/3p1npp/pNnPpp2/P1P5/5NP1/1P2PPBP/R1BQR1K1 w - e6 0 14': 'd5e6',\n",
       " 'r1b2rk1/1pp2qb1/3pPnpp/pNn2p2/P1P5/5NP1/1P2PPBP/R1BQR1K1 b - - 0 14': 'c8e6',\n",
       " 'r4rk1/1pp2qb1/3pbnpp/pNn2p2/P1P5/5NP1/1P2PPBP/R1BQR1K1 w - - 0 15': 'f3d4',\n",
       " 'r4rk1/1pp2qb1/3pbnpp/pNn2p2/P1PN4/6P1/1P2PPBP/R1BQR1K1 b - - 1 15': 'e6c4',\n",
       " 'r4rk1/1pp2qb1/3p1npp/pNn2p2/P1bN4/6P1/1P2PPBP/R1BQR1K1 w - - 0 16': 'a1a3',\n",
       " 'r4rk1/1pp2qb1/3p1npp/pNn2p2/P1bN4/R5P1/1P2PPBP/2BQR1K1 b - - 1 16': 'f6e4',\n",
       " 'r4rk1/1pp2qb1/3p2pp/pNn2p2/P1bNn3/R5P1/1P2PPBP/2BQR1K1 w - - 2 17': 'b2b3',\n",
       " 'r4rk1/1pp2qb1/3p2pp/pNn2p2/P1bNn3/RP4P1/4PPBP/2BQR1K1 b - - 0 17': 'c4d5',\n",
       " 'r4rk1/1pp2qb1/3p2pp/pNnb1p2/P2Nn3/RP4P1/4PPBP/2BQR1K1 w - - 1 18': 'f2f3',\n",
       " 'r4rk1/1pp2qb1/3p2pp/pNnb1p2/P2Nn3/RP3PP1/4P1BP/2BQR1K1 b - - 0 18': 'e4g5',\n",
       " 'r4rk1/1pp2qb1/3p2pp/pNnb1pn1/P2N4/RP3PP1/4P1BP/2BQR1K1 w - - 1 19': 'h2h4',\n",
       " 'r4rk1/1pp2qb1/3p2pp/pNnb1pn1/P2N3P/RP3PP1/4P1B1/2BQR1K1 b - - 0 19': 'g5e6',\n",
       " 'r4rk1/1pp2qb1/3pn1pp/pNnb1p2/P2N3P/RP3PP1/4P1B1/2BQR1K1 w - - 1 20': 'd4e6',\n",
       " 'r4rk1/1pp2qb1/3pN1pp/pNnb1p2/P6P/RP3PP1/4P1B1/2BQR1K1 b - - 0 20': 'd5e6',\n",
       " 'r4rk1/1pp2qb1/3pb1pp/pNn2p2/P6P/RP3PP1/4P1B1/2BQR1K1 w - - 0 21': 'd1c2',\n",
       " 'r4rk1/1pp2qb1/3pb1pp/pNn2p2/P6P/RP3PP1/2Q1P1B1/2B1R1K1 b - - 1 21': 'f8d8',\n",
       " 'r2r2k1/1pp2qb1/3pb1pp/pNn2p2/P6P/RP3PP1/2Q1P1B1/2B1R1K1 w - - 2 22': 'c1b2',\n",
       " 'r2r2k1/1pp2qb1/3pb1pp/pNn2p2/P6P/RP3PP1/1BQ1P1B1/4R1K1 b - - 3 22': 'c7c6',\n",
       " 'r2r2k1/1p3qb1/2ppb1pp/pNn2p2/P6P/RP3PP1/1BQ1P1B1/4R1K1 w - - 0 23': 'b2g7',\n",
       " 'r2r2k1/1p3qB1/2ppb1pp/pNn2p2/P6P/RP3PP1/2Q1P1B1/4R1K1 b - - 0 23': 'f7g7',\n",
       " 'r2r2k1/1p4q1/2ppb1pp/pNn2p2/P6P/RP3PP1/2Q1P1B1/4R1K1 w - - 0 24': 'b5c3',\n",
       " 'r2r2k1/1p4q1/2ppb1pp/p1n2p2/P6P/RPN2PP1/2Q1P1B1/4R1K1 b - - 1 24': 'g7f7',\n",
       " 'r2r2k1/1p3q2/2ppb1pp/p1n2p2/P6P/RPN2PP1/2Q1P1B1/4R1K1 w - - 2 25': 'e2e4',\n",
       " 'r2r2k1/1p3q2/2ppb1pp/p1n2p2/P3P2P/RPN2PP1/2Q3B1/4R1K1 b - - 0 25': 'e6b3',\n",
       " 'r2r2k1/1p3q2/2pp2pp/p1n2p2/P3P2P/RbN2PP1/2Q3B1/4R1K1 w - - 0 26': 'c2b1',\n",
       " 'r2r2k1/1p3q2/2pp2pp/p1n2p2/P3P2P/RbN2PP1/6B1/1Q2R1K1 b - - 1 26': 'f5e4',\n",
       " 'r2r2k1/1p3q2/2pp2pp/p1n5/P3p2P/RbN2PP1/6B1/1Q2R1K1 w - - 0 27': 'c3e4',\n",
       " 'r2r2k1/1p3q2/2pp2pp/p1n5/P3N2P/Rb3PP1/6B1/1Q2R1K1 b - - 0 27': 'b3d5',\n",
       " 'r2r2k1/1p3q2/2pp2pp/p1nb4/P3N2P/R4PP1/6B1/1Q2R1K1 w - - 1 28': 'a3e3',\n",
       " 'r2r2k1/1p3q2/2pp2pp/p1nb4/P3N2P/4RPP1/6B1/1Q2R1K1 b - - 2 28': 'c5e4',\n",
       " 'r2r2k1/1p3q2/2pp2pp/p2b4/P3n2P/4RPP1/6B1/1Q2R1K1 w - - 0 29': 'f3e4',\n",
       " 'r2r2k1/1p3q2/2pp2pp/p2b4/P3P2P/4R1P1/6B1/1Q2R1K1 b - - 0 29': 'd5c4',\n",
       " 'r2r2k1/1p3q2/2pp2pp/p7/P1b1P2P/4R1P1/6B1/1Q2R1K1 w - - 1 30': 'e3f3',\n",
       " 'r2r2k1/1p3q2/2pp2pp/p7/P1b1P2P/5RP1/6B1/1Q2R1K1 b - - 2 30': 'f7e7',\n",
       " 'r2r2k1/1p2q3/2pp2pp/p7/P1b1P2P/5RP1/6B1/1Q2R1K1 w - - 3 31': 'e4e5',\n",
       " 'r2r2k1/1p2q3/2pp2pp/p3P3/P1b4P/5RP1/6B1/1Q2R1K1 b - - 0 31': 'd6e5',\n",
       " 'r2r2k1/1p2q3/2p3pp/p3p3/P1b4P/5RP1/6B1/1Q2R1K1 w - - 0 32': 'b1g6',\n",
       " 'r2r2k1/1p2q3/2p3Qp/p3p3/P1b4P/5RP1/6B1/4R1K1 b - - 0 32': 'e7g7',\n",
       " 'r2r2k1/1p4q1/2p3Qp/p3p3/P1b4P/5RP1/6B1/4R1K1 w - - 1 33': 'f3f6',\n",
       " 'r2r2k1/1p4q1/2p2RQp/p3p3/P1b4P/6P1/6B1/4R1K1 b - - 2 33': 'g7g6',\n",
       " 'r2r2k1/1p6/2p2Rqp/p3p3/P1b4P/6P1/6B1/4R1K1 w - - 0 34': 'f6g6',\n",
       " 'r2r2k1/1p6/2p3Rp/p3p3/P1b4P/6P1/6B1/4R1K1 b - - 0 34': 'g8h7',\n",
       " 'r2r4/1p5k/2p3Rp/p3p3/P1b4P/6P1/6B1/4R1K1 w - - 1 35': 'g2e4',\n",
       " 'r2r4/1p5k/2p3Rp/p3p3/P1b1B2P/6P1/8/4R1K1 b - - 2 35': 'c4d3',\n",
       " 'r2r4/1p5k/2p3Rp/p3p3/P3B2P/3b2P1/8/4R1K1 w - - 3 36': 'g6g4',\n",
       " 'r2r4/1p5k/2p4p/p3p3/P3B1RP/3b2P1/8/4R1K1 b - - 4 36': 'd3e4',\n",
       " 'r2r4/1p5k/2p4p/p3p3/P3b1RP/6P1/8/4R1K1 w - - 0 37': 'g4e4',\n",
       " 'r2r4/1p5k/2p4p/p3p3/P3R2P/6P1/8/4R1K1 b - - 0 37': 'd8g8',\n",
       " 'r5r1/1p5k/2p4p/p3p3/P3R2P/6P1/8/4R1K1 w - - 1 38': 'e4e5',\n",
       " 'r5r1/1p5k/2p4p/p3R3/P6P/6P1/8/4R1K1 b - - 0 38': 'g8g3',\n",
       " 'r7/1p5k/2p4p/p3R3/P6P/6r1/8/4R1K1 w - - 0 39': 'g1h2',\n",
       " 'r7/1p5k/2p4p/p3R3/P6P/6r1/7K/4R3 b - - 1 39': 'g3g4',\n",
       " 'r7/1p5k/2p4p/p3R3/P5rP/8/7K/4R3 w - - 2 40': 'e5e7',\n",
       " 'r7/1p2R2k/2p4p/p7/P5rP/8/7K/4R3 b - - 3 40': 'h7g6',\n",
       " 'r7/1p2R3/2p3kp/p7/P5rP/8/7K/4R3 w - - 4 41': 'h2h3',\n",
       " 'r7/1p2R3/2p3kp/p7/P5rP/7K/8/4R3 b - - 5 41': 'g6f5',\n",
       " 'r7/1p2R3/2p4p/p4k2/P5rP/7K/8/4R3 w - - 6 42': 'e1e6',\n",
       " 'r7/1p2R3/2p1R2p/p4k2/P5rP/7K/8/8 b - - 7 42': 'g4g6',\n",
       " 'r7/1p2R3/2p1R1rp/p4k2/P6P/7K/8/8 w - - 8 43': 'e6e5',\n",
       " 'r7/1p2R3/2p3rp/p3Rk2/P6P/7K/8/8 b - - 9 43': 'f5f6',\n",
       " 'r7/1p2R3/2p2krp/p3R3/P6P/7K/8/8 w - - 10 44': 'e7e6',\n",
       " 'r7/1p6/2p1Rkrp/p3R3/P6P/7K/8/8 b - - 11 44': 'f6g7',\n",
       " 'r7/1p4k1/2p1R1rp/p3R3/P6P/7K/8/8 w - - 12 45': 'e6e7',\n",
       " 'r7/1p2R1k1/2p3rp/p3R3/P6P/7K/8/8 b - - 13 45': 'g7h8',\n",
       " 'r6k/1p2R3/2p3rp/p3R3/P6P/7K/8/8 w - - 14 46': 'h4h5',\n",
       " 'r6k/1p2R3/2p3rp/p3R2P/P7/7K/8/8 b - - 0 46': 'g6g5',\n",
       " 'r6k/1p2R3/2p4p/p3R1rP/P7/7K/8/8 w - - 1 47': 'e5e6'}"
      ]
     },
     "execution_count": 5,
     "metadata": {},
     "output_type": "execute_result"
    }
   ],
   "source": [
    "imitation_chess.getBoardMoveMap(g)"
   ]
  },
  {
   "cell_type": "code",
   "execution_count": 14,
   "metadata": {},
   "outputs": [
    {
     "data": {
      "text/plain": [
       "'b3d1'"
      ]
     },
     "execution_count": 14,
     "metadata": {},
     "output_type": "execute_result"
    }
   ],
   "source": [
    "move.uci()"
   ]
  },
  {
   "cell_type": "code",
   "execution_count": 12,
   "metadata": {},
   "outputs": [
    {
     "data": {
      "text/plain": [
       "'5r2/p3N1kp/1p2n3/6p1/5P2/5BP1/1P2N1KP/3q4 w - - 0 28'"
      ]
     },
     "execution_count": 12,
     "metadata": {},
     "output_type": "execute_result"
    }
   ],
   "source": [
    "board.fen()"
   ]
  },
  {
   "cell_type": "code",
   "execution_count": 4,
   "metadata": {},
   "outputs": [],
   "source": [
    "g = games[0]"
   ]
  },
  {
   "cell_type": "code",
   "execution_count": 6,
   "metadata": {},
   "outputs": [
    {
     "ename": "TypeError",
     "evalue": "'NoneType' object is not callable",
     "output_type": "error",
     "traceback": [
      "\u001b[0;31m---------------------------------------------------------------------------\u001b[0m",
      "\u001b[0;31mTypeError\u001b[0m                                 Traceback (most recent call last)",
      "\u001b[0;32m<ipython-input-6-3d18b57bc001>\u001b[0m in \u001b[0;36m<module>\u001b[0;34m()\u001b[0m\n\u001b[0;32m----> 1\u001b[0;31m \u001b[0mg\u001b[0m\u001b[0;34m.\u001b[0m\u001b[0mmove\u001b[0m\u001b[0;34m(\u001b[0m\u001b[0;34m)\u001b[0m\u001b[0;34m\u001b[0m\u001b[0m\n\u001b[0m",
      "\u001b[0;31mTypeError\u001b[0m: 'NoneType' object is not callable"
     ]
    }
   ],
   "source": [
    "g.move()"
   ]
  },
  {
   "cell_type": "code",
   "execution_count": 3,
   "metadata": {},
   "outputs": [
    {
     "data": {
      "text/plain": [
       "[<chess.pgn.Game at 0x119609128>,\n",
       " <chess.pgn.Game at 0x119609e80>,\n",
       " <chess.pgn.Game at 0x11967a780>,\n",
       " <chess.pgn.Game at 0x119698cc0>,\n",
       " <chess.pgn.Game at 0x11967a208>,\n",
       " <chess.pgn.Game at 0x1196b9f28>,\n",
       " <chess.pgn.Game at 0x1196d27b8>,\n",
       " <chess.pgn.Game at 0x1196b9f98>,\n",
       " <chess.pgn.Game at 0x1196dfd68>,\n",
       " <chess.pgn.Game at 0x1196dfb70>]"
      ]
     },
     "execution_count": 3,
     "metadata": {},
     "output_type": "execute_result"
    }
   ],
   "source": [
    "games[:10]"
   ]
  },
  {
   "cell_type": "code",
   "execution_count": 4,
   "metadata": {},
   "outputs": [],
   "source": [
    "s = slice(2)"
   ]
  },
  {
   "cell_type": "code",
   "execution_count": 5,
   "metadata": {},
   "outputs": [],
   "source": [
    "s.step"
   ]
  },
  {
   "cell_type": "code",
   "execution_count": 12,
   "metadata": {},
   "outputs": [
    {
     "data": {
      "text/plain": [
       "['__class__',\n",
       " '__delattr__',\n",
       " '__dir__',\n",
       " '__doc__',\n",
       " '__eq__',\n",
       " '__format__',\n",
       " '__ge__',\n",
       " '__getattribute__',\n",
       " '__gt__',\n",
       " '__hash__',\n",
       " '__init__',\n",
       " '__init_subclass__',\n",
       " '__le__',\n",
       " '__lt__',\n",
       " '__ne__',\n",
       " '__new__',\n",
       " '__reduce__',\n",
       " '__reduce_ex__',\n",
       " '__repr__',\n",
       " '__setattr__',\n",
       " '__sizeof__',\n",
       " '__str__',\n",
       " '__subclasshook__',\n",
       " 'indices',\n",
       " 'start',\n",
       " 'step',\n",
       " 'stop']"
      ]
     },
     "execution_count": 12,
     "metadata": {},
     "output_type": "execute_result"
    }
   ],
   "source": [
    "dir(s)"
   ]
  },
  {
   "cell_type": "code",
   "execution_count": 11,
   "metadata": {},
   "outputs": [
    {
     "ename": "ValueError",
     "evalue": "length should not be negative",
     "output_type": "error",
     "traceback": [
      "\u001b[0;31m---------------------------------------------------------------------------\u001b[0m",
      "\u001b[0;31mValueError\u001b[0m                                Traceback (most recent call last)",
      "\u001b[0;32m<ipython-input-11-923d989926bf>\u001b[0m in \u001b[0;36m<module>\u001b[0;34m()\u001b[0m\n\u001b[0;32m----> 1\u001b[0;31m \u001b[0ms\u001b[0m\u001b[0;34m.\u001b[0m\u001b[0mindices\u001b[0m\u001b[0;34m(\u001b[0m\u001b[0;34m-\u001b[0m\u001b[0;36m1\u001b[0m\u001b[0;34m)\u001b[0m\u001b[0;34m\u001b[0m\u001b[0m\n\u001b[0m",
      "\u001b[0;31mValueError\u001b[0m: length should not be negative"
     ]
    }
   ],
   "source": [
    "s.indices(-1)"
   ]
  },
  {
   "cell_type": "code",
   "execution_count": 7,
   "metadata": {},
   "outputs": [
    {
     "ename": "TypeError",
     "evalue": "type object argument after * must be an iterable, not slice",
     "output_type": "error",
     "traceback": [
      "\u001b[0;31m---------------------------------------------------------------------------\u001b[0m",
      "\u001b[0;31mTypeError\u001b[0m                                 Traceback (most recent call last)",
      "\u001b[0;32m<ipython-input-7-9346ff520757>\u001b[0m in \u001b[0;36m<module>\u001b[0;34m()\u001b[0m\n\u001b[0;32m----> 1\u001b[0;31m \u001b[0mrange\u001b[0m\u001b[0;34m(\u001b[0m\u001b[0;34m*\u001b[0m\u001b[0ms\u001b[0m\u001b[0;34m)\u001b[0m\u001b[0;34m\u001b[0m\u001b[0m\n\u001b[0m",
      "\u001b[0;31mTypeError\u001b[0m: type object argument after * must be an iterable, not slice"
     ]
    }
   ],
   "source": [
    "range(*s)"
   ]
  },
  {
   "cell_type": "code",
   "execution_count": 37,
   "metadata": {},
   "outputs": [
    {
     "name": "stdout",
     "output_type": "stream",
     "text": [
      "83407\r"
     ]
    },
    {
     "ename": "KeyboardInterrupt",
     "evalue": "",
     "output_type": "error",
     "traceback": [
      "\u001b[0;31m---------------------------------------------------------------------------\u001b[0m",
      "\u001b[0;31mKeyboardInterrupt\u001b[0m                         Traceback (most recent call last)",
      "\u001b[0;32m<ipython-input-37-eae7bab0cbc4>\u001b[0m in \u001b[0;36m<module>\u001b[0;34m()\u001b[0m\n\u001b[1;32m      5\u001b[0m         \u001b[0mi\u001b[0m \u001b[0;34m+=\u001b[0m \u001b[0;36m1\u001b[0m\u001b[0;34m\u001b[0m\u001b[0m\n\u001b[1;32m      6\u001b[0m         \u001b[0mprint\u001b[0m\u001b[0;34m(\u001b[0m\u001b[0mi\u001b[0m\u001b[0;34m,\u001b[0m \u001b[0mend\u001b[0m \u001b[0;34m=\u001b[0m \u001b[0;34m'\\r'\u001b[0m\u001b[0;34m,\u001b[0m \u001b[0mflush\u001b[0m \u001b[0;34m=\u001b[0m \u001b[0;32mTrue\u001b[0m\u001b[0;34m)\u001b[0m\u001b[0;34m\u001b[0m\u001b[0m\n\u001b[0;32m----> 7\u001b[0;31m         \u001b[0mgame\u001b[0m \u001b[0;34m=\u001b[0m \u001b[0mchess\u001b[0m\u001b[0;34m.\u001b[0m\u001b[0mpgn\u001b[0m\u001b[0;34m.\u001b[0m\u001b[0mread_game\u001b[0m\u001b[0;34m(\u001b[0m\u001b[0mf\u001b[0m\u001b[0;34m)\u001b[0m\u001b[0;34m\u001b[0m\u001b[0m\n\u001b[0m\u001b[1;32m      8\u001b[0m \u001b[0;34m\u001b[0m\u001b[0m\n",
      "\u001b[0;32m~/anaconda/lib/python3.6/site-packages/chess/pgn.py\u001b[0m in \u001b[0;36mread_game\u001b[0;34m(handle, Visitor)\u001b[0m\n\u001b[1;32m   1049\u001b[0m                 \u001b[0;32melse\u001b[0m\u001b[0;34m:\u001b[0m\u001b[0;34m\u001b[0m\u001b[0m\n\u001b[1;32m   1050\u001b[0m                     \u001b[0mvisitor\u001b[0m\u001b[0;34m.\u001b[0m\u001b[0mvisit_move\u001b[0m\u001b[0;34m(\u001b[0m\u001b[0mboard_stack\u001b[0m\u001b[0;34m[\u001b[0m\u001b[0;34m-\u001b[0m\u001b[0;36m1\u001b[0m\u001b[0;34m]\u001b[0m\u001b[0;34m,\u001b[0m \u001b[0mmove\u001b[0m\u001b[0;34m)\u001b[0m\u001b[0;34m\u001b[0m\u001b[0m\n\u001b[0;32m-> 1051\u001b[0;31m                     \u001b[0mboard_stack\u001b[0m\u001b[0;34m[\u001b[0m\u001b[0;34m-\u001b[0m\u001b[0;36m1\u001b[0m\u001b[0;34m]\u001b[0m\u001b[0;34m.\u001b[0m\u001b[0mpush\u001b[0m\u001b[0;34m(\u001b[0m\u001b[0mmove\u001b[0m\u001b[0;34m)\u001b[0m\u001b[0;34m\u001b[0m\u001b[0m\n\u001b[0m\u001b[1;32m   1052\u001b[0m \u001b[0;34m\u001b[0m\u001b[0m\n\u001b[1;32m   1053\u001b[0m         \u001b[0;32mif\u001b[0m \u001b[0mread_next_line\u001b[0m\u001b[0;34m:\u001b[0m\u001b[0;34m\u001b[0m\u001b[0m\n",
      "\u001b[0;32m~/anaconda/lib/python3.6/site-packages/chess/__init__.py\u001b[0m in \u001b[0;36mpush\u001b[0;34m(self, move)\u001b[0m\n\u001b[1;32m   1841\u001b[0m         \u001b[0mmove\u001b[0m \u001b[0;34m=\u001b[0m \u001b[0mself\u001b[0m\u001b[0;34m.\u001b[0m\u001b[0m_to_chess960\u001b[0m\u001b[0;34m(\u001b[0m\u001b[0mmove\u001b[0m\u001b[0;34m)\u001b[0m\u001b[0;34m\u001b[0m\u001b[0m\n\u001b[1;32m   1842\u001b[0m         \u001b[0mself\u001b[0m\u001b[0;34m.\u001b[0m\u001b[0mmove_stack\u001b[0m\u001b[0;34m.\u001b[0m\u001b[0mappend\u001b[0m\u001b[0;34m(\u001b[0m\u001b[0mself\u001b[0m\u001b[0;34m.\u001b[0m\u001b[0m_from_chess960\u001b[0m\u001b[0;34m(\u001b[0m\u001b[0mself\u001b[0m\u001b[0;34m.\u001b[0m\u001b[0mchess960\u001b[0m\u001b[0;34m,\u001b[0m \u001b[0mmove\u001b[0m\u001b[0;34m.\u001b[0m\u001b[0mfrom_square\u001b[0m\u001b[0;34m,\u001b[0m \u001b[0mmove\u001b[0m\u001b[0;34m.\u001b[0m\u001b[0mto_square\u001b[0m\u001b[0;34m,\u001b[0m \u001b[0mmove\u001b[0m\u001b[0;34m.\u001b[0m\u001b[0mpromotion\u001b[0m\u001b[0;34m,\u001b[0m \u001b[0mmove\u001b[0m\u001b[0;34m.\u001b[0m\u001b[0mdrop\u001b[0m\u001b[0;34m)\u001b[0m\u001b[0;34m)\u001b[0m\u001b[0;34m\u001b[0m\u001b[0m\n\u001b[0;32m-> 1843\u001b[0;31m         \u001b[0mself\u001b[0m\u001b[0;34m.\u001b[0m\u001b[0mstack\u001b[0m\u001b[0;34m.\u001b[0m\u001b[0mappend\u001b[0m\u001b[0;34m(\u001b[0m\u001b[0m_BoardState\u001b[0m\u001b[0;34m(\u001b[0m\u001b[0mself\u001b[0m\u001b[0;34m)\u001b[0m\u001b[0;34m)\u001b[0m\u001b[0;34m\u001b[0m\u001b[0m\n\u001b[0m\u001b[1;32m   1844\u001b[0m \u001b[0;34m\u001b[0m\u001b[0m\n\u001b[1;32m   1845\u001b[0m         \u001b[0;31m# Reset en passant square.\u001b[0m\u001b[0;34m\u001b[0m\u001b[0;34m\u001b[0m\u001b[0m\n",
      "\u001b[0;32m~/anaconda/lib/python3.6/site-packages/chess/__init__.py\u001b[0m in \u001b[0;36m__init__\u001b[0;34m(self, board)\u001b[0m\n\u001b[1;32m   1250\u001b[0m \u001b[0;34m\u001b[0m\u001b[0m\n\u001b[1;32m   1251\u001b[0m     \u001b[0;32mdef\u001b[0m \u001b[0m__init__\u001b[0m\u001b[0;34m(\u001b[0m\u001b[0mself\u001b[0m\u001b[0;34m,\u001b[0m \u001b[0mboard\u001b[0m\u001b[0;34m)\u001b[0m\u001b[0;34m:\u001b[0m\u001b[0;34m\u001b[0m\u001b[0m\n\u001b[0;32m-> 1252\u001b[0;31m         \u001b[0mself\u001b[0m\u001b[0;34m.\u001b[0m\u001b[0mpawns\u001b[0m \u001b[0;34m=\u001b[0m \u001b[0mboard\u001b[0m\u001b[0;34m.\u001b[0m\u001b[0mpawns\u001b[0m\u001b[0;34m\u001b[0m\u001b[0m\n\u001b[0m\u001b[1;32m   1253\u001b[0m         \u001b[0mself\u001b[0m\u001b[0;34m.\u001b[0m\u001b[0mknights\u001b[0m \u001b[0;34m=\u001b[0m \u001b[0mboard\u001b[0m\u001b[0;34m.\u001b[0m\u001b[0mknights\u001b[0m\u001b[0;34m\u001b[0m\u001b[0m\n\u001b[1;32m   1254\u001b[0m         \u001b[0mself\u001b[0m\u001b[0;34m.\u001b[0m\u001b[0mbishops\u001b[0m \u001b[0;34m=\u001b[0m \u001b[0mboard\u001b[0m\u001b[0;34m.\u001b[0m\u001b[0mbishops\u001b[0m\u001b[0;34m\u001b[0m\u001b[0m\n",
      "\u001b[0;31mKeyboardInterrupt\u001b[0m: "
     ]
    }
   ],
   "source": [
    "i = 0\n",
    "with bz2.open(gamesPath, 'rt') as f:\n",
    "    #games = [ for i in range(50)]\n",
    "    while True:\n",
    "        i += 1\n",
    "        print(i, end = '\\r', flush = True)\n",
    "        game = chess.pgn.read_game(f)\n",
    "    "
   ]
  },
  {
   "cell_type": "code",
   "execution_count": 33,
   "metadata": {},
   "outputs": [],
   "source": [
    "with bz2.open(gamesPath, 'rt') as f:\n",
    "    games = [chess.pgn.read_game(f) for i in range(50)]\n",
    "    #print(f.readlines(10))"
   ]
  },
  {
   "cell_type": "code",
   "execution_count": 34,
   "metadata": {},
   "outputs": [
    {
     "data": {
      "text/plain": [
       "[<chess.pgn.Game at 0x1a14d593c8>,\n",
       " <chess.pgn.Game at 0x1a14d2d4a8>,\n",
       " <chess.pgn.Game at 0x1a15304f28>,\n",
       " <chess.pgn.Game at 0x1a154ccf28>,\n",
       " <chess.pgn.Game at 0x1a15304e10>,\n",
       " <chess.pgn.Game at 0x1a15314c50>,\n",
       " <chess.pgn.Game at 0x1a14e64f60>,\n",
       " <chess.pgn.Game at 0x1a14e64128>,\n",
       " <chess.pgn.Game at 0x1a15270128>,\n",
       " <chess.pgn.Game at 0x1a14817240>,\n",
       " <chess.pgn.Game at 0x1a14fb53c8>,\n",
       " <chess.pgn.Game at 0x1a15526908>,\n",
       " <chess.pgn.Game at 0x10b153438>,\n",
       " <chess.pgn.Game at 0x10b153908>,\n",
       " <chess.pgn.Game at 0x1a14d306a0>,\n",
       " <chess.pgn.Game at 0x1a14fab6d8>,\n",
       " <chess.pgn.Game at 0x1a14c9e4a8>,\n",
       " <chess.pgn.Game at 0x1a15546048>,\n",
       " <chess.pgn.Game at 0x1a1507b198>,\n",
       " <chess.pgn.Game at 0x1a155d2dd8>,\n",
       " <chess.pgn.Game at 0x1a155dd0f0>,\n",
       " <chess.pgn.Game at 0x1a155466d8>,\n",
       " <chess.pgn.Game at 0x1a14f62c18>,\n",
       " <chess.pgn.Game at 0x1a155d25f8>,\n",
       " <chess.pgn.Game at 0x1a155d2978>,\n",
       " <chess.pgn.Game at 0x1a1557a7f0>,\n",
       " <chess.pgn.Game at 0x1a14f62908>,\n",
       " <chess.pgn.Game at 0x1a153c35c0>,\n",
       " <chess.pgn.Game at 0x1a153965c0>,\n",
       " <chess.pgn.Game at 0x1a155d2fd0>,\n",
       " <chess.pgn.Game at 0x1a1506f748>,\n",
       " <chess.pgn.Game at 0x1a1506f908>,\n",
       " <chess.pgn.Game at 0x1a14e7f710>,\n",
       " <chess.pgn.Game at 0x1a1506f9b0>,\n",
       " <chess.pgn.Game at 0x1a14db9518>,\n",
       " <chess.pgn.Game at 0x1a155dda58>,\n",
       " <chess.pgn.Game at 0x1a1506fb70>,\n",
       " <chess.pgn.Game at 0x1a14d60400>,\n",
       " <chess.pgn.Game at 0x1a15eeb978>,\n",
       " <chess.pgn.Game at 0x1a15f0e748>,\n",
       " <chess.pgn.Game at 0x1a15970ef0>,\n",
       " <chess.pgn.Game at 0x1a15982550>,\n",
       " <chess.pgn.Game at 0x1a15a584a8>,\n",
       " <chess.pgn.Game at 0x1a151e1748>,\n",
       " <chess.pgn.Game at 0x1a14fab860>,\n",
       " <chess.pgn.Game at 0x1a14ec7fd0>,\n",
       " <chess.pgn.Game at 0x1a15cd8f60>,\n",
       " <chess.pgn.Game at 0x1a15281a90>,\n",
       " <chess.pgn.Game at 0x1a14ec72e8>,\n",
       " <chess.pgn.Game at 0x1a15f71b70>]"
      ]
     },
     "execution_count": 34,
     "metadata": {},
     "output_type": "execute_result"
    }
   ],
   "source": [
    "games"
   ]
  },
  {
   "cell_type": "code",
   "execution_count": 26,
   "metadata": {},
   "outputs": [
    {
     "name": "stdout",
     "output_type": "stream",
     "text": [
      "[Event \"Rated Blitz game\"]\n",
      "[Site \"https://lichess.org/f2Oejy7P\"]\n",
      "[White \"inthisposition\"]\n",
      "[Black \"Boletov\"]\n",
      "[Result \"1-0\"]\n",
      "[UTCDate \"2015.02.28\"]\n",
      "[UTCTime \"23:00:00\"]\n",
      "[WhiteElo \"1821\"]\n",
      "[BlackElo \"1785\"]\n",
      "[WhiteRatingDiff \"+10\"]\n",
      "[BlackRatingDiff \"-17\"]\n",
      "[ECO \"A85\"]\n",
      "[Opening \"Dutch Defense: Queen's Knight Variation\"]\n",
      "[TimeControl \"300+0\"]\n",
      "[Termination \"Time forfeit\"]\n",
      "[LichessId \"f2Oejy7P\"]\n",
      "\n",
      "1. d4 f5 2. c4 Nf6 3. Nc3 g6 4. g3 Bg7 5. Bg2 O-O 6. Nf3 d6 7. O-O Qe8 8. d5 a5 9. a4 Na6 10. Re1 Nc5 11. Ng5 h6 12. Nf3 Qf7 13. Nb5 e5 14. dxe6 Bxe6 15. Nfd4 Bxc4 16. Ra3 Nfe4 17. b3 Bd5 18. f3 Ng5 19. h4 Nge6 20. Nxe6 Bxe6 21. Qc2 Rfd8 22. Bb2 c6 23. Bxg7 Qxg7 24. Nc3 Qf7 25. e4 Bxb3 26. Qb1 fxe4 27. Nxe4 Bd5 28. Rae3 Nxe4 29. fxe4 Bc4 30. Rf3 Qe7 31. e5 dxe5 32. Qxg6+ Qg7 33. Rf6 Qxg6 34. Rxg6+ Kh7 35. Be4 Bd3 36. Rg4+ Bxe4 37. Rgxe4 Rg8 38. Rxe5 Rxg3+ 39. Kh2 Rg4 40. Re7+ Kg6 41. Kh3 Kf5 42. R1e6 Rg6 43. Re5+ Kf6 44. R7e6+ Kg7 45. Re7+ Kh8 46. h5 Rg5 47. R5e6 1-0\n",
      "\n",
      "[Event \"Rated Bullet tournament https://lichess.org/tournament/RCOPb6Bo\"]\n",
      "[Site \"https://lichess.org/zlwraOPi\"]\n",
      "[White \"jose_sky_1233\"]\n",
      "[Black \"_____-\"]\n",
      "[Result \"0-1\"]\n",
      "[UTCDate \"2015.02.28\"]\n",
      "[UTCTime \"23:00:02\"]\n",
      "[WhiteElo \"1302\"]\n",
      "[BlackElo \"1655\"]\n",
      "[WhiteRatingDiff \"-20\"]\n",
      "[BlackRatingDiff \"+3\"]\n",
      "[ECO \"C65\"]\n",
      "[Opening \"Ruy Lopez: Berlin Defense #2\"]\n",
      "[TimeControl \"60+0\"]\n",
      "[Termination \"Normal\"]\n",
      "[LichessId \"zlwraOPi\"]\n",
      "\n",
      "1. e4 e5 2. Nf3 Nc6 3. Bb5 Nf6 4. d3 a6 5. Bxc6 dxc6 6. Nxe5 Bg4 7. Nxg4 Nxg4 8. Qxg4 g6 9. f4 Bg7 10. O-O Qd4+ 11. Kh1 O-O 12. Qg3 Rad8 13. Qf2 Qb6 14. Qxb6 cxb6 15. f5 Rfe8 16. fxg6 fxg6 17. Rf2 Bd4 18. Rf1 c5 19. h3 b5 20. Bd2 Bxb2 21. c3 Bxa1 22. Na3 Bb2 23. Rb1 Bxa3 24. c4 b4 25. Rb3 a5 26. Rb1 Rxd3 27. Rd1 Rxe4 28. Rf1 Bb2 29. Bh6 Re8 30. Rf7 a4 31. Rg7+ Bxg7 32. Bxg7 Kxg7 33. g3 Re2 34. h4 Rd1# 0-1\n",
      "\n",
      "[Event \"Rated Bullet tournament https://lichess.org/tournament/RCOPb6Bo\"]\n",
      "[Site \"https://lichess.org/6xLKzWQ5\"]\n",
      "[White \"sofia23058\"]\n",
      "[Black \"Farnese\"]\n",
      "[Result \"0-1\"]\n",
      "[UTCDate \"2015.02.28\"]\n",
      "[UTCTime \"23:00:02\"]\n",
      "[WhiteElo \"1500\"]\n",
      "[BlackElo \"1636\"]\n",
      "[WhiteRatingDiff \"-121\"]\n",
      "[BlackRatingDiff \"+23\"]\n",
      "[ECO \"A00\"]\n",
      "[Opening \"Mieses Opening\"]\n",
      "[TimeControl \"60+0\"]\n",
      "[Termination \"Time forfeit\"]\n",
      "[LichessId \"6xLKzWQ5\"]\n",
      "\n",
      "1. d3 Nf6 2. e3 e5 3. d4 exd4 4. exd4 d5 5. Nf3 Bd6 6. c4 O-O 0-1\n",
      "\n",
      "[Event \"Rated Bullet tournament https://lichess.org/tournament/RCOPb6Bo\"]\n",
      "[Site \"https://lichess.org/aSWMBMRI\"]\n",
      "[White \"lunas\"]\n",
      "[Black \"FrancoValussi\"]\n",
      "[Result \"1-0\"]\n",
      "[UTCDate \"2015.02.28\"]\n",
      "[UTCTime \"23:00:02\"]\n",
      "[WhiteElo \"1767\"]\n",
      "[BlackElo \"1700\"]\n",
      "[WhiteRatingDiff \"+9\"]\n",
      "[BlackRatingDiff \"-14\"]\n",
      "[ECO \"A40\"]\n",
      "[Opening \"Modern Defense\"]\n",
      "[TimeControl \"60+0\"]\n",
      "[Termination \"Normal\"]\n",
      "[LichessId \"aSWMBMRI\"]\n",
      "\n",
      "1. d4 g6 2. c4 Bg7 3. Nc3 e6 4. e4 a6 5. Nf3 Ne7 6. Bg5 Nbc6 7. Qd2 h6 8. Be3 O-O 9. Bxh6 Bxh6 10. Qxh6 d5 11. Ng5 Nf5 12. Qh7# 1-0\n",
      "\n",
      "[Event \"Rated Blitz game\"]\n",
      "[Site \"https://lichess.org/YmWK0unz\"]\n",
      "[White \"zivkoj\"]\n",
      "[Black \"Atlec\"]\n",
      "[Result \"0-1\"]\n",
      "[UTCDate \"2015.02.28\"]\n",
      "[UTCTime \"23:00:04\"]\n",
      "[WhiteElo \"1741\"]\n",
      "[BlackElo \"1409\"]\n",
      "[WhiteRatingDiff \"-19\"]\n",
      "[BlackRatingDiff \"+20\"]\n",
      "[ECO \"B20\"]\n",
      "[Opening \"Sicilian Defense: Bowdler Attack\"]\n",
      "[TimeControl \"300+0\"]\n",
      "[Termination \"Time forfeit\"]\n",
      "[LichessId \"YmWK0unz\"]\n",
      "\n",
      "1. e4 c5 2. Bc4 e6 3. a3 a6 4. d3 d5 5. exd5 exd5 6. Ba2 Nf6 7. h3 Bd6 8. Nf3 Nc6 9. O-O O-O 10. Bg5 h6 11. Bh4 Re8 12. Nbd2 Be7 13. Nh2 Nh7 14. Bxe7 Rxe7 15. c3 Bf5 16. Ndf3 Qd7 17. Nh4 Be6 18. d4 cxd4 19. cxd4 Rae8 20. Bb1 Nf6 21. Bc2 Qc7 22. Qd3 Nxd4 23. Rac1 Nxc2 24. Rxc2 Qd6 25. N2f3 Ne4 26. Nd4 Nc5 27. Qf3 Bd7 28. Nhf5 Bxf5 29. Nxf5 Qf6 30. Nxe7+ Qxe7 0-1\n",
      "\n",
      "[Event \"Rated Bullet tournament https://lichess.org/tournament/TmQyOW1P\"]\n",
      "[Site \"https://lichess.org/WlXeIFNu\"]\n",
      "[White \"emre2004\"]\n",
      "[Black \"grasshopper\"]\n",
      "[Result \"0-1\"]\n",
      "[UTCDate \"2015.02.28\"]\n",
      "[UTCTime \"23:00:05\"]\n",
      "[WhiteElo \"1616\"]\n",
      "[BlackElo \"1717\"]\n",
      "[WhiteRatingDiff \"-10\"]\n",
      "[BlackRatingDiff \"+8\"]\n",
      "[ECO \"B13\"]\n",
      "[Opening \"Caro-Kann Defense: Exchange Variation\"]\n",
      "[TimeControl \"60+1\"]\n",
      "[Termination \"Time forfeit\"]\n",
      "[LichessId \"WlXeIFNu\"]\n",
      "\n",
      "1. e4 { [%eval 0.21] } 1... c6 { [%eval 0.39] } 2. d4 { [%eval 0.38] } 2... d5 { [%eval 0.34] } 3. exd5 { [%eval 0.28] } 3... cxd5 { [%eval 0.26] } 4. Bd3 { [%eval 0.25] } 4... e6 { [%eval 0.35] } 5. Ne2 { [%eval 0.14] } 5... g6 { [%eval 0.15] } 6. Bf4 { [%eval 0.13] } 6... Bg7 { [%eval 0.13] } 7. O-O { [%eval -0.06] } 7... Nc6 { [%eval -0.12] } 8. c3 { [%eval -0.16] } 8... Nge7 { [%eval -0.2] } 9. Nd2 { [%eval -0.18] } 9... O-O { [%eval -0.12] } 10. Nb3 { [%eval -0.22] } 10... a6 { [%eval 0.03] } 11. Qc2 { [%eval -0.27] } 11... b5?! { [%eval 0.38] } 12. a3 { [%eval 0.04] } 12... Bd7 { [%eval 0.25] } 13. Nd2?! { [%eval -0.25] } 13... Rc8 { [%eval -0.1] } 14. Nf3?! { [%eval -0.75] } 14... Nf5?! { [%eval 0.0] } 15. Bxf5 { [%eval -0.05] } 15... exf5 { [%eval -0.08] } 16. Ng3?! { [%eval -0.64] } 16... h6?! { [%eval -0.14] } 17. h4 { [%eval -0.16] } 17... f6?! { [%eval 0.77] } 18. Qb3? { [%eval -0.39] } 18... Be6 { [%eval -0.06] } 19. Rfe1 { [%eval -0.3] } 19... Bf7 { [%eval -0.19] } 20. Bd2 { [%eval -0.14] } 20... Re8 { [%eval 0.0] } 21. a4 { [%eval 0.03] } 21... Na5 { [%eval -0.06] } 22. Qb4?? { [%eval -5.15] } 22... Bf8 { [%eval -4.94] } 23. Rxe8 { [%eval -5.22] } 23... Bxe8 { [%eval -5.14] } 24. Bxh6? { [%eval -7.24] } 24... Bxb4 { [%eval -7.03] } 25. cxb4 { [%eval -7.0] } 25... Nc4?! { [%eval -6.32] } 26. b3 { [%eval -6.32] } 26... Nd6 { [%eval -6.45] } 27. Re1 { [%eval -6.91] } 27... Ne4 { [%eval -6.89] } 28. Nxe4? { [%eval -8.17] } 28... dxe4 { [%eval -8.31] } 29. Nd2 { [%eval -8.49] } 29... Qxd4 { [%eval -8.44] } 30. Kf1? { [%eval -13.94] } 30... g5 { [%eval -13.79] } 31. hxg5 { [%eval -25.18] } 31... Qxd2 { [%eval -17.75] } 32. gxf6 { [%eval -18.53] } 32... Qxh6 { [%eval -24.24] } 33. f7+?! { [%eval #-10] } 33... Kxf7 { [%eval #-8] } 0-1\n",
      "\n",
      "[Event \"Rated Standard game\"]\n",
      "[Site \"https://lichess.org/5bMFWthU\"]\n",
      "[White \"breves\"]\n",
      "[Black \"riiton\"]\n",
      "[Result \"1-0\"]\n",
      "[UTCDate \"2015.02.28\"]\n",
      "[UTCTime \"23:00:05\"]\n",
      "[WhiteElo \"1227\"]\n",
      "[BlackElo \"1190\"]\n",
      "[WhiteRatingDiff \"+11\"]\n",
      "[BlackRatingDiff \"-17\"]\n",
      "[ECO \"C26\"]\n",
      "[Opening \"Vienna Game: Stanley Variation\"]\n",
      "[TimeControl \"480+8\"]\n",
      "[Termination \"Normal\"]\n",
      "[LichessId \"5bMFWthU\"]\n",
      "\n",
      "1. e4 e5 2. Bc4 Nf6 3. Nc3 a6 4. Nf3 b5 5. Bd5 c6 6. Bb3 Bc5 7. Nxe5 Qe7 8. Nxf7 Rf8 9. Ng5 Nxe4 10. Ngxe4 Bxf2+ 11. Kf1 Bd4+ 12. Ke2 d5 13. Kd3 Bf5 14. Kxd4 c5+ 15. Kxd5 Qe6+ 16. Kxc5 Nd7+ 17. Kd4 Qb6+ 18. Kd3 Nc5+ 19. Ke2 Bg4+ 20. Ke1 Bxd1 21. Kxd1 Nxe4 22. Nxe4 Rd8 23. d3 Rf4 24. Bxf4 Qf6 25. Nxf6+ gxf6 26. Re1+ Kd7 27. Kd2 1-0\n",
      "\n",
      "[Event \"Rated Standard game\"]\n",
      "[Site \"https://lichess.org/HrsXyTcY\"]\n",
      "[White \"mironi\"]\n",
      "[Black \"grimshanky\"]\n",
      "[Result \"0-1\"]\n",
      "[UTCDate \"2015.02.28\"]\n",
      "[UTCTime \"23:00:07\"]\n",
      "[WhiteElo \"1599\"]\n",
      "[BlackElo \"1582\"]\n",
      "[WhiteRatingDiff \"-11\"]\n",
      "[BlackRatingDiff \"+12\"]\n",
      "[ECO \"C20\"]\n",
      "[Opening \"King's Pawn Game: Leonardis Variation\"]\n",
      "[TimeControl \"180+10\"]\n",
      "[Termination \"Time forfeit\"]\n",
      "[LichessId \"HrsXyTcY\"]\n",
      "\n",
      "1. e4 e5 2. d3 c5 3. c4 Be7 4. Nc3 Nf6 5. h3 d6 6. Nf3 h6 7. Be2 Nc6 8. Bd2 a6 9. a3 Rb8 10. Rb1 b5 11. cxb5 axb5 12. b3 O-O 13. Na2 Be6 14. Qc2 Na5 15. O-O Nc6 16. b4 Nd4 17. Nxd4 cxd4 18. Qb2 Qb6 19. Rfc1 Rfc8 20. Rxc8+ Rxc8 21. Nc1 d5 22. Nb3 dxe4 23. dxe4 Nxe4 24. Bf3 Nxd2 25. Nxd2 f5 26. Rc1 e4 27. Rxc8+ Bxc8 28. Bd1 e3 29. Nf3 exf2+ 30. Qxf2 Bf6 31. Bb3+ Kh8 0-1\n",
      "\n",
      "[Event \"Rated Bullet game\"]\n",
      "[Site \"https://lichess.org/kDuL2PD2\"]\n",
      "[White \"aavza50\"]\n",
      "[Black \"Chess_Agent\"]\n",
      "[Result \"0-1\"]\n",
      "[UTCDate \"2015.02.28\"]\n",
      "[UTCTime \"23:00:10\"]\n",
      "[WhiteElo \"1603\"]\n",
      "[BlackElo \"1587\"]\n",
      "[WhiteRatingDiff \"-11\"]\n",
      "[BlackRatingDiff \"+12\"]\n",
      "[ECO \"A00\"]\n",
      "[Opening \"Mieses Opening\"]\n",
      "[TimeControl \"0+1\"]\n",
      "[Termination \"Normal\"]\n",
      "[LichessId \"kDuL2PD2\"]\n",
      "\n",
      "1. d3 d5 2. Bg5 Nc6 3. Be3 f6 4. Bd2 e5 5. c3 d4 6. b4 dxc3 7. Bxc3 Bd7 8. Qc2 Bd6 9. Na3 Qe7 10. Nc4 Bxb4 11. Bxb4 Qxb4+ 12. Nd2 Nd4 13. Rb1 Nxc2+ 14. Kd1 Qc3 15. Rc1 Ba4 16. Rxc2 Qxc2+ 17. Ke1 Qc1# 0-1\n",
      "\n",
      "[Event \"Rated Blitz game\"]\n",
      "[Site \"https://lichess.org/r1TsGzJ0\"]\n",
      "[White \"Markozir\"]\n",
      "[Black \"milindsg\"]\n",
      "[Result \"1-0\"]\n",
      "[UTCDate \"2015.02.28\"]\n",
      "[UTCTime \"23:00:11\"]\n",
      "[WhiteElo \"1793\"]\n",
      "[BlackElo \"1593\"]\n",
      "[WhiteRatingDiff \"+6\"]\n",
      "[BlackRatingDiff \"-5\"]\n",
      "[ECO \"C50\"]\n",
      "[Opening \"Italian Game\"]\n",
      "[TimeControl \"300+0\"]\n",
      "[Termination \"Time forfeit\"]\n",
      "[LichessId \"r1TsGzJ0\"]\n",
      "\n",
      "1. e4 e5 2. Nf3 Nc6 3. Bc4 d6 4. c3 Bg4 5. h3 Bh5 6. a4 Nf6 7. d3 h6 8. Be3 a6 9. Nbd2 g5 10. O-O g4 11. hxg4 Bxg4 12. a5 h5 13. Qb3 Qd7 14. Qxb7 Rb8 15. Qxa6 Nd8 16. Ba7 Ra8 17. b4 c6 18. Qb6 Rxa7 19. b5 c5 20. a6 h4 21. Ng5 h3 22. g3 h2+ 23. Kh1 Bh6 24. Ndf3 Rg8 25. Kxh2 Bxg5 26. Nxg5 Rxg5 27. f3 Rh5+ 28. Kg1 Bh3 29. Rf2 Rg5 30. Kh2 Rh5 31. Kg1 Rg5 32. Kh2 Nh5 33. g4 Bxg4 34. fxg4 Qxg4 35. Bxf7+ Nxf7 36. Qb8+ Nd8 37. Rf8+ Kxf8 38. Qxd8+ Kg7 39. Qxg5+ Qxg5 40. Rg1 Qxg1+ 41. Kxg1 Kh6 42. Kf2 Rf7+ 43. Ke2 1-0\n",
      "\n",
      "[Event \"Rated Blitz tournament https://lichess.org/tournament/Pq0RCAJV\"]\n",
      "[Site \"https://lichess.org/HHgfTEam\"]\n",
      "[White \"Hunab_Ku\"]\n",
      "[Black \"arbbus\"]\n",
      "[Result \"0-1\"]\n",
      "[UTCDate \"2015.02.28\"]\n",
      "[UTCTime \"23:00:14\"]\n",
      "[WhiteElo \"1864\"]\n",
      "[BlackElo \"1795\"]\n",
      "[WhiteRatingDiff \"-15\"]\n",
      "[BlackRatingDiff \"+14\"]\n",
      "[ECO \"A34\"]\n",
      "[Opening \"English Opening: Symmetrical Variation, Normal Variation\"]\n",
      "[TimeControl \"300+0\"]\n",
      "[Termination \"Normal\"]\n",
      "[LichessId \"HHgfTEam\"]\n",
      "\n",
      "1. c4 c5 2. Nc3 b6 3. e4 Bb7 4. d3 e6 5. f4 g6 6. g3 Bg7 7. Bg2 Ne7 8. Nge2 f5 9. Be3 fxe4 10. dxe4 O-O 11. O-O Na6 12. Rb1 Nc7 13. Qc2 d5 14. cxd5 exd5 15. exd5 Nexd5 16. Qb3 Kh8 17. Rbd1 c4 18. Bxd5 cxb3 19. Bxb7 Qe7 20. Bd4 Rad8 21. Bxg7+ Kxg7 22. Bf3 Rxd1 23. Rxd1 Qe3+ 24. Kg2 Ne6 25. axb3 g5 26. Nd5 Qxb3 27. Ne7 Qxd1 0-1\n",
      "\n",
      "[Event \"Rated Blitz game\"]\n",
      "[Site \"https://lichess.org/bNeMJDl9\"]\n",
      "[White \"bizugo\"]\n",
      "[Black \"pfowler\"]\n",
      "[Result \"1-0\"]\n",
      "[UTCDate \"2015.02.28\"]\n",
      "[UTCTime \"23:00:15\"]\n",
      "[WhiteElo \"1490\"]\n",
      "[BlackElo \"1530\"]\n",
      "[WhiteRatingDiff \"+11\"]\n",
      "[BlackRatingDiff \"-12\"]\n",
      "[ECO \"B12\"]\n",
      "[Opening \"Caro-Kann Defense #2\"]\n",
      "[TimeControl \"300+0\"]\n",
      "[Termination \"Time forfeit\"]\n",
      "[LichessId \"bNeMJDl9\"]\n",
      "\n",
      "1. e4 c6 2. d4 d5 3. Bd3 e6 4. Nf3 c5 5. c3 c4 6. Bc2 Nc6 7. e5 Nge7 8. Bg5 h6 9. Bf4 Bd7 10. h4 Ng6 11. Qd2 Qb6 12. b4 cxb3 13. Bxb3 Na5 14. Qc2 Rc8 15. Be3 Bb5 16. Nbd2 Bb4 17. Nb1 Be7 18. a4 Bc4 19. Bxc4 Nxc4 20. Nbd2 Nxe3 21. fxe3 Qa5 22. Rc1 O-O 23. O-O Rc7 24. Nb1 Rfc8 25. Rf2 f6 26. Qb3 fxe5 27. dxe5 Qc5 28. Nd4 Nxh4 29. Nxe6 Qxe3 30. Nxc7 Qxc1+ 31. Kh2 Rxc7 32. Qxd5+ Kh7 33. Qe4+ Ng6 34. Nd2 Rxc3 35. Nf3 Rxf3 36. Rxf3 Qg5 37. Rg3 Qh5+ 38. Kg1 Qd1+ 39. Kf2 Qd2+ 40. Kf3 Qc3+ 41. Qe3 1-0\n",
      "\n"
     ]
    }
   ],
   "source": [
    "print(\"\".join(t))"
   ]
  },
  {
   "cell_type": "code",
   "execution_count": null,
   "metadata": {},
   "outputs": [],
   "source": []
  }
 ],
 "metadata": {
  "kernelspec": {
   "display_name": "Python 3",
   "language": "python",
   "name": "python3"
  },
  "language_info": {
   "codemirror_mode": {
    "name": "ipython",
    "version": 3
   },
   "file_extension": ".py",
   "mimetype": "text/x-python",
   "name": "python",
   "nbconvert_exporter": "python",
   "pygments_lexer": "ipython3",
   "version": "3.6.5"
  }
 },
 "nbformat": 4,
 "nbformat_minor": 2
}
